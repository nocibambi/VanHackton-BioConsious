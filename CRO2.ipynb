{
 "cells": [
  {
   "cell_type": "markdown",
   "metadata": {},
   "source": [
    "# Libraries"
   ]
  },
  {
   "cell_type": "code",
   "execution_count": 25,
   "metadata": {
    "ExecuteTime": {
     "end_time": "2020-04-21T17:12:25.268841Z",
     "start_time": "2020-04-21T17:12:25.266181Z"
    },
    "init_cell": true
   },
   "outputs": [],
   "source": [
    "from glucose_forecast import (\n",
    "    data_cro2,\n",
    "    data_validation,\n",
    "    data_normalize,\n",
    "    plot_measurements,\n",
    "    forecast_windows,\n",
    "    forecast_model,\n",
    "    utils,\n",
    "    metric_clarke,\n",
    "    metric_calculation,\n",
    "    plot_clarke,\n",
    "    plot_summary\n",
    ")\n",
    "\n",
    "from glucose_forecast.config import config"
   ]
  },
  {
   "cell_type": "code",
   "execution_count": 6,
   "metadata": {
    "ExecuteTime": {
     "end_time": "2020-04-21T17:11:25.213994Z",
     "start_time": "2020-04-21T17:11:25.211457Z"
    }
   },
   "outputs": [],
   "source": [
    "import numpy as np\n",
    "import pandas as pd"
   ]
  },
  {
   "cell_type": "code",
   "execution_count": 7,
   "metadata": {
    "ExecuteTime": {
     "end_time": "2020-04-21T17:11:25.217917Z",
     "start_time": "2020-04-21T17:11:25.215790Z"
    }
   },
   "outputs": [],
   "source": [
    "from itertools import product"
   ]
  },
  {
   "cell_type": "code",
   "execution_count": 8,
   "metadata": {
    "ExecuteTime": {
     "end_time": "2020-04-21T17:11:25.223288Z",
     "start_time": "2020-04-21T17:11:25.219389Z"
    }
   },
   "outputs": [],
   "source": [
    "import os"
   ]
  },
  {
   "cell_type": "markdown",
   "metadata": {},
   "source": [
    "# Data load and validation"
   ]
  },
  {
   "cell_type": "code",
   "execution_count": 26,
   "metadata": {
    "ExecuteTime": {
     "end_time": "2020-04-21T17:12:27.820996Z",
     "start_time": "2020-04-21T17:12:25.270427Z"
    },
    "init_cell": true
   },
   "outputs": [
    {
     "data": {
      "text/html": [
       "<div>\n",
       "<style scoped>\n",
       "    .dataframe tbody tr th:only-of-type {\n",
       "        vertical-align: middle;\n",
       "    }\n",
       "\n",
       "    .dataframe tbody tr th {\n",
       "        vertical-align: top;\n",
       "    }\n",
       "\n",
       "    .dataframe thead th {\n",
       "        text-align: right;\n",
       "    }\n",
       "</style>\n",
       "<table border=\"1\" class=\"dataframe\">\n",
       "  <thead>\n",
       "    <tr style=\"text-align: right;\">\n",
       "      <th></th>\n",
       "      <th>subject</th>\n",
       "      <th>timestamp</th>\n",
       "      <th>glucose_mg_dl</th>\n",
       "      <th>glucose_mmol_l</th>\n",
       "      <th>heart_rate</th>\n",
       "    </tr>\n",
       "  </thead>\n",
       "  <tbody>\n",
       "    <tr>\n",
       "      <th>1</th>\n",
       "      <td>2001_SDMStrials@gmail.com - KF</td>\n",
       "      <td>0.00</td>\n",
       "      <td>104.516003</td>\n",
       "      <td>-0.045810</td>\n",
       "      <td>89.000000</td>\n",
       "    </tr>\n",
       "    <tr>\n",
       "      <th>2</th>\n",
       "      <td>2001_SDMStrials@gmail.com - KF</td>\n",
       "      <td>0.15</td>\n",
       "      <td>109.000000</td>\n",
       "      <td>-0.037408</td>\n",
       "      <td>87.009469</td>\n",
       "    </tr>\n",
       "    <tr>\n",
       "      <th>3</th>\n",
       "      <td>2001_SDMStrials@gmail.com - KF</td>\n",
       "      <td>0.30</td>\n",
       "      <td>111.000000</td>\n",
       "      <td>-0.032682</td>\n",
       "      <td>85.785449</td>\n",
       "    </tr>\n",
       "    <tr>\n",
       "      <th>4</th>\n",
       "      <td>2001_SDMStrials@gmail.com - KF</td>\n",
       "      <td>0.45</td>\n",
       "      <td>111.000000</td>\n",
       "      <td>-0.032682</td>\n",
       "      <td>88.076003</td>\n",
       "    </tr>\n",
       "    <tr>\n",
       "      <th>5</th>\n",
       "      <td>2001_SDMStrials@gmail.com - KF</td>\n",
       "      <td>0.60</td>\n",
       "      <td>108.000000</td>\n",
       "      <td>-0.039814</td>\n",
       "      <td>85.140396</td>\n",
       "    </tr>\n",
       "  </tbody>\n",
       "</table>\n",
       "</div>"
      ],
      "text/plain": [
       "                          subject  timestamp  glucose_mg_dl  glucose_mmol_l  \\\n",
       "1  2001_SDMStrials@gmail.com - KF       0.00     104.516003       -0.045810   \n",
       "2  2001_SDMStrials@gmail.com - KF       0.15     109.000000       -0.037408   \n",
       "3  2001_SDMStrials@gmail.com - KF       0.30     111.000000       -0.032682   \n",
       "4  2001_SDMStrials@gmail.com - KF       0.45     111.000000       -0.032682   \n",
       "5  2001_SDMStrials@gmail.com - KF       0.60     108.000000       -0.039814   \n",
       "\n",
       "   heart_rate  \n",
       "1   89.000000  \n",
       "2   87.009469  \n",
       "3   85.785449  \n",
       "4   88.076003  \n",
       "5   85.140396  "
      ]
     },
     "execution_count": 26,
     "metadata": {},
     "output_type": "execute_result"
    }
   ],
   "source": [
    "cro2 = data_cro2.get_cro2()\n",
    "cro2.head()"
   ]
  },
  {
   "cell_type": "code",
   "execution_count": 27,
   "metadata": {
    "ExecuteTime": {
     "end_time": "2020-04-21T17:12:27.853695Z",
     "start_time": "2020-04-21T17:12:27.822802Z"
    },
    "init_cell": true,
    "scrolled": false
   },
   "outputs": [
    {
     "name": "stdout",
     "output_type": "stream",
     "text": [
      "Intervals between timestamps are consistently             0.15.\n",
      "Column data types are valid.\n",
      "Rows are sorted by subject and timestamp\n"
     ]
    }
   ],
   "source": [
    "data_validation.validate_data(cro2)"
   ]
  },
  {
   "cell_type": "markdown",
   "metadata": {},
   "source": [
    "# Measurement plots"
   ]
  },
  {
   "cell_type": "code",
   "execution_count": 11,
   "metadata": {
    "ExecuteTime": {
     "end_time": "2020-04-21T17:11:39.483444Z",
     "start_time": "2020-04-21T17:11:28.495051Z"
    },
    "scrolled": false
   },
   "outputs": [],
   "source": [
    "plot_measurements.generate_plots(\n",
    "    cro2,\n",
    "    #     show_plots=True\n",
    ")"
   ]
  },
  {
   "cell_type": "markdown",
   "metadata": {},
   "source": [
    "# Parameters"
   ]
  },
  {
   "cell_type": "code",
   "execution_count": 28,
   "metadata": {
    "ExecuteTime": {
     "end_time": "2020-04-21T17:12:27.863133Z",
     "start_time": "2020-04-21T17:12:27.855204Z"
    },
    "init_cell": true,
    "scrolled": true
   },
   "outputs": [
    {
     "data": {
      "text/plain": [
       "{'window': [48, 52],\n",
       " 'subject': array(['2001_SDMStrials@gmail.com - KF', '2002_sdmstrails@gmail.com - FT'],\n",
       "       dtype=object),\n",
       " 'predictors': [['glucose_mg_dl'], ['glucose_mg_dl', 'heart_rate']],\n",
       " 'model': ['Decision Tree', 'LSTM']}"
      ]
     },
     "execution_count": 28,
     "metadata": {},
     "output_type": "execute_result"
    }
   ],
   "source": [
    "# Gettin parmeters from config\n",
    "\n",
    "(start, end), step = config.training_window_range, config.training_window_step\n",
    "\n",
    "predictor_combinations = utils.get_predictor_columns([\"glucose_type\"])\n",
    "# parameters = {\n",
    "#     \"window\": list(range(start, end + 1, step)),\n",
    "#     \"subject\": cro2[\"subject\"].unique(),\n",
    "#     \"predictors\": predictor_combinations,\n",
    "#     \"model\": config.model_parameters.keys(),\n",
    "#     #     'error' = config.errors\n",
    "# }\n",
    "\n",
    "\n",
    "# A small number of parameter for testing\n",
    "parameters = {\n",
    "    \"window\": list(range(start, 52 + 1, step)),\n",
    "    \"subject\": cro2[\"subject\"].unique()[0:2],\n",
    "    \"predictors\": predictor_combinations[0:2],\n",
    "    \"model\": ['Decision Tree', 'LSTM'],\n",
    "    #     'error' = config.errors\n",
    "}\n",
    "\n",
    "\n",
    "parameters"
   ]
  },
  {
   "cell_type": "markdown",
   "metadata": {},
   "source": [
    "# Windows"
   ]
  },
  {
   "cell_type": "code",
   "execution_count": 13,
   "metadata": {
    "ExecuteTime": {
     "end_time": "2020-04-21T17:11:47.932096Z",
     "start_time": "2020-04-21T17:11:39.492823Z"
    },
    "scrolled": false
   },
   "outputs": [
    {
     "name": "stderr",
     "output_type": "stream",
     "text": [
      "  0%|          | 1/464 [00:00<01:30,  5.13it/s]"
     ]
    },
    {
     "name": "stdout",
     "output_type": "stream",
     "text": [
      "2001_SDMStrials@gmail.com - KF ['glucose_mg_dl'] 48\n"
     ]
    },
    {
     "name": "stderr",
     "output_type": "stream",
     "text": [
      "100%|██████████| 464/464 [00:01<00:00, 443.69it/s]\n",
      "  8%|▊         | 38/464 [00:00<00:01, 372.45it/s]"
     ]
    },
    {
     "name": "stdout",
     "output_type": "stream",
     "text": [
      "2001_SDMStrials@gmail.com - KF ['glucose_mg_dl'] 52\n"
     ]
    },
    {
     "name": "stderr",
     "output_type": "stream",
     "text": [
      "100%|██████████| 464/464 [00:00<00:00, 554.59it/s]\n",
      "  9%|▉         | 44/464 [00:00<00:00, 433.05it/s]"
     ]
    },
    {
     "name": "stdout",
     "output_type": "stream",
     "text": [
      "2001_SDMStrials@gmail.com - KF ['glucose_mg_dl', 'heart_rate'] 48\n"
     ]
    },
    {
     "name": "stderr",
     "output_type": "stream",
     "text": [
      "100%|██████████| 464/464 [00:00<00:00, 518.08it/s]\n",
      "  6%|▌         | 28/464 [00:00<00:01, 276.71it/s]"
     ]
    },
    {
     "name": "stdout",
     "output_type": "stream",
     "text": [
      "2001_SDMStrials@gmail.com - KF ['glucose_mg_dl', 'heart_rate'] 52\n"
     ]
    },
    {
     "name": "stderr",
     "output_type": "stream",
     "text": [
      "100%|██████████| 464/464 [00:01<00:00, 357.72it/s]\n",
      "  9%|▉         | 42/475 [00:00<00:01, 415.49it/s]"
     ]
    },
    {
     "name": "stdout",
     "output_type": "stream",
     "text": [
      "2002_sdmstrails@gmail.com - FT ['glucose_mg_dl'] 48\n"
     ]
    },
    {
     "name": "stderr",
     "output_type": "stream",
     "text": [
      "100%|██████████| 475/475 [00:01<00:00, 376.80it/s]\n",
      "  8%|▊         | 39/475 [00:00<00:01, 389.24it/s]"
     ]
    },
    {
     "name": "stdout",
     "output_type": "stream",
     "text": [
      "2002_sdmstrails@gmail.com - FT ['glucose_mg_dl'] 52\n"
     ]
    },
    {
     "name": "stderr",
     "output_type": "stream",
     "text": [
      "100%|██████████| 475/475 [00:01<00:00, 464.32it/s]\n",
      "  8%|▊         | 39/475 [00:00<00:01, 386.83it/s]"
     ]
    },
    {
     "name": "stdout",
     "output_type": "stream",
     "text": [
      "2002_sdmstrails@gmail.com - FT ['glucose_mg_dl', 'heart_rate'] 48\n"
     ]
    },
    {
     "name": "stderr",
     "output_type": "stream",
     "text": [
      "100%|██████████| 475/475 [00:01<00:00, 458.12it/s]\n",
      "  9%|▉         | 45/475 [00:00<00:00, 449.08it/s]"
     ]
    },
    {
     "name": "stdout",
     "output_type": "stream",
     "text": [
      "2002_sdmstrails@gmail.com - FT ['glucose_mg_dl', 'heart_rate'] 52\n"
     ]
    },
    {
     "name": "stderr",
     "output_type": "stream",
     "text": [
      "100%|██████████| 475/475 [00:00<00:00, 480.14it/s]\n"
     ]
    }
   ],
   "source": [
    "# Generate window data\n",
    "\n",
    "for combination in product(\n",
    "    parameters[\"subject\"], parameters[\"predictors\"], parameters[\"window\"]\n",
    "):\n",
    "    subject, predictors, window = combination\n",
    "    print(subject, predictors, window)\n",
    "    \n",
    "    windows_path = utils.prepare_directory(\"window_data\")\n",
    "    filename = utils.generate_file_name(subject, predictors, window, windows_path) + \".npz\"    \n",
    "    \n",
    "    if not os.path.exists(filename):\n",
    "        forecast_windows.create_window(cro2, subject, predictors, window)\n",
    "    \n",
    "    else:\n",
    "        print(f\"{filename} exists.\\n\")\n",
    "\n",
    "# X, y = np.load(filename)[\"X\"], np.load(filename)[\"y\"]"
   ]
  },
  {
   "cell_type": "markdown",
   "metadata": {},
   "source": [
    "# Forecast"
   ]
  },
  {
   "cell_type": "code",
   "execution_count": 14,
   "metadata": {
    "ExecuteTime": {
     "end_time": "2020-04-21T17:12:23.222382Z",
     "start_time": "2020-04-21T17:11:47.933389Z"
    },
    "scrolled": false
   },
   "outputs": [
    {
     "name": "stdout",
     "output_type": "stream",
     "text": [
      "results/forecast/2001-KF_Glu_48_DecTre.npy\n",
      "Fitting: Decision Tree\n",
      "results/forecast/2001-KF_Glu_48_LSTM.npy\n",
      "Fitting: LSTM\n",
      "results/forecast/2001-KF_Glu_52_DecTre.npy\n",
      "Fitting: Decision Tree\n",
      "results/forecast/2001-KF_Glu_52_LSTM.npy\n",
      "Fitting: LSTM\n",
      "results/forecast/2001-KF_Glu-Hea_48_DecTre.npy\n",
      "Fitting: Decision Tree\n",
      "results/forecast/2001-KF_Glu-Hea_48_LSTM.npy\n",
      "Fitting: LSTM\n",
      "results/forecast/2001-KF_Glu-Hea_52_DecTre.npy\n",
      "Fitting: Decision Tree\n",
      "results/forecast/2001-KF_Glu-Hea_52_LSTM.npy\n",
      "Fitting: LSTM\n",
      "results/forecast/2002-FT_Glu_48_DecTre.npy\n",
      "Fitting: Decision Tree\n",
      "results/forecast/2002-FT_Glu_48_LSTM.npy\n",
      "Fitting: LSTM\n",
      "results/forecast/2002-FT_Glu_52_DecTre.npy\n",
      "Fitting: Decision Tree\n",
      "results/forecast/2002-FT_Glu_52_LSTM.npy\n",
      "Fitting: LSTM\n",
      "results/forecast/2002-FT_Glu-Hea_48_DecTre.npy\n",
      "Fitting: Decision Tree\n",
      "results/forecast/2002-FT_Glu-Hea_48_LSTM.npy\n",
      "Fitting: LSTM\n",
      "results/forecast/2002-FT_Glu-Hea_52_DecTre.npy\n",
      "Fitting: Decision Tree\n",
      "results/forecast/2002-FT_Glu-Hea_52_LSTM.npy\n",
      "Fitting: LSTM\n"
     ]
    }
   ],
   "source": [
    "# Run models and save predictons\n",
    "\n",
    "forecasts_path = utils.prepare_directory(\"forecast\")\n",
    "\n",
    "for combination in product(\n",
    "    parameters[\"subject\"],\n",
    "    parameters[\"predictors\"],\n",
    "    parameters[\"window\"],\n",
    "    parameters[\"model\"],\n",
    "):\n",
    "\n",
    "    subject, predictors, window, model = combination\n",
    "    pred_filename = f\"{utils.generate_file_name(subject, predictors, window, forecasts_path, model)}.npy\"\n",
    "\n",
    "    if not os.path.exists(pred_filename):\n",
    "        X, y = utils.load_window_data(subject, predictors, window)\n",
    "        print(pred_filename)\n",
    "\n",
    "        predictions, error = forecast_model.forecast(X, y, model, window, predictors)\n",
    "\n",
    "        np.save(pred_filename, predictions)\n",
    "    else:\n",
    "        print(f\"{pred_filename} exists.\")"
   ]
  },
  {
   "cell_type": "markdown",
   "metadata": {},
   "source": [
    "# RMSE and Clarke Errors"
   ]
  },
  {
   "cell_type": "code",
   "execution_count": 15,
   "metadata": {
    "ExecuteTime": {
     "end_time": "2020-04-21T17:12:23.284221Z",
     "start_time": "2020-04-21T17:12:23.224625Z"
    },
    "scrolled": false
   },
   "outputs": [],
   "source": [
    "# Calculate and save error values and calculate error plots\n",
    "\n",
    "results = utils.prepare_results()\n",
    "\n",
    "for combination in product(\n",
    "    parameters[\"subject\"],\n",
    "    parameters[\"predictors\"],\n",
    "    parameters[\"window\"],\n",
    "    parameters[\"model\"],\n",
    "):\n",
    "\n",
    "    subject, predictors, window, model = combination\n",
    "\n",
    "    combination_map = (\n",
    "        (results[\"subject\"] == subject)\n",
    "        & (results[\"predictors\"].astype(str) == str(predictors)) # Might work with numpy/pandas update\n",
    "        & (results[\"window\"] == window)  \n",
    "        & (results[\"model\"] == model)\n",
    "    )\n",
    "\n",
    "    if results[combination_map].shape[0] == 0:\n",
    "        combination_results = pd.DataFrame(columns=config.result_columns)\n",
    "        \n",
    "        predictions = utils.load_predictions_data(subject, predictors, window, model)\n",
    "        \n",
    "        error = metric_calculation.get_rmse(predictions, subject, predictors, window)        \n",
    "        y_test = metric_calculation.get_y_test(subject, predictors, window)\n",
    "        \n",
    "        clarke, zone = metric_clarke.generate_clarke_errors(\n",
    "            y_test, predictions, window, config.forecasting_horizon\n",
    "        )\n",
    "        plot_clarke.create_clarke_plots(\n",
    "            zone,\n",
    "            y_test,\n",
    "            predictions,\n",
    "            subject,\n",
    "            predictors,\n",
    "            window,\n",
    "            model,\n",
    "            config.forecasting_horizon,\n",
    "        )        \n",
    "        \n",
    "        \n",
    "        combination_results = combination_results.append(\n",
    "            {\n",
    "                \"subject\": subject,\n",
    "                \"predictors\": predictors,\n",
    "                \"window\": window,\n",
    "                \"model\": model,\n",
    "                \"error\": error,\n",
    "                \"clarke\": clarke,\n",
    "                \"zone\": zone\n",
    "            },\n",
    "            ignore_index=True,\n",
    "        )\n",
    "\n",
    "        \n",
    "        utils.save_results(combination_results)\n",
    "        results = results.append(combination_results)"
   ]
  },
  {
   "cell_type": "markdown",
   "metadata": {},
   "source": [
    "# Summary plots"
   ]
  },
  {
   "cell_type": "code",
   "execution_count": 16,
   "metadata": {
    "ExecuteTime": {
     "end_time": "2020-04-21T17:12:23.293195Z",
     "start_time": "2020-04-21T17:12:23.285687Z"
    }
   },
   "outputs": [],
   "source": [
    "from importlib import reload\n",
    "\n",
    "reload(config)\n",
    "reload(data_cro2)\n",
    "reload(data_validation)\n",
    "reload(data_normalize)\n",
    "reload(forecast_windows)\n",
    "reload(forecast_model)\n",
    "reload(utils)\n",
    "reload(metric_clarke)\n",
    "reload(plot_clarke)\n",
    "reload(plot_summary)\n",
    "reload(plot_measurements)\n",
    "reload(metric_calculation)\n",
    "\n",
    "from glucose_forecast.config import config"
   ]
  },
  {
   "cell_type": "code",
   "execution_count": 17,
   "metadata": {
    "ExecuteTime": {
     "end_time": "2020-04-21T17:12:25.228026Z",
     "start_time": "2020-04-21T17:12:23.294661Z"
    },
    "code_folding": [],
    "scrolled": false
   },
   "outputs": [
    {
     "name": "stdout",
     "output_type": "stream",
     "text": [
      "2001_SDMStrials@gmail.com - KF: ['glucose_mg_dl']\n"
     ]
    },
    {
     "data": {
      "text/plain": [
       "<Figure size 432x288 with 0 Axes>"
      ]
     },
     "metadata": {},
     "output_type": "display_data"
    },
    {
     "data": {
      "image/png": "[encoded data removed]",
      "text/plain": [
       "<Figure size 1080x1080 with 1 Axes>"
      ]
     },
     "metadata": {},
     "output_type": "display_data"
    },
    {
     "name": "stdout",
     "output_type": "stream",
     "text": [
      "2001_SDMStrials@gmail.com - KF: ['glucose_mg_dl', 'heart_rate']\n"
     ]
    },
    {
     "data": {
      "text/plain": [
       "<Figure size 432x288 with 0 Axes>"
      ]
     },
     "metadata": {},
     "output_type": "display_data"
    },
    {
     "data": {
      "image/png": "[encoded data removed]",
      "text/plain": [
       "<Figure size 1080x1080 with 1 Axes>"
      ]
     },
     "metadata": {},
     "output_type": "display_data"
    },
    {
     "name": "stdout",
     "output_type": "stream",
     "text": [
      "2002_sdmstrails@gmail.com - FT: ['glucose_mg_dl']\n"
     ]
    },
    {
     "data": {
      "text/plain": [
       "<Figure size 432x288 with 0 Axes>"
      ]
     },
     "metadata": {},
     "output_type": "display_data"
    },
    {
     "data": {
      "image/png": "[encoded data removed]",
      "text/plain": [
       "<Figure size 1080x1080 with 1 Axes>"
      ]
     },
     "metadata": {},
     "output_type": "display_data"
    },
    {
     "name": "stdout",
     "output_type": "stream",
     "text": [
      "2002_sdmstrails@gmail.com - FT: ['glucose_mg_dl', 'heart_rate']\n"
     ]
    },
    {
     "data": {
      "text/plain": [
       "<Figure size 432x288 with 0 Axes>"
      ]
     },
     "metadata": {},
     "output_type": "display_data"
    },
    {
     "data": {
      "image/png": "[encoded data removed]",
      "text/plain": [
       "<Figure size 1080x1080 with 1 Axes>"
      ]
     },
     "metadata": {},
     "output_type": "display_data"
    }
   ],
   "source": [
    "for combination in product(parameters[\"subject\"], parameters[\"predictors\"]):\n",
    "    subject, predictors = combination\n",
    "    print(f\"{subject}: {predictors}\")\n",
    "    \n",
    "    \n",
    "    plot_summary.generate_plot(results, subject, predictors, show=True)"
   ]
  },
  {
   "cell_type": "markdown",
   "metadata": {
    "heading_collapsed": true
   },
   "source": [
    "# Checking forecasts"
   ]
  },
  {
   "cell_type": "code",
   "execution_count": 18,
   "metadata": {
    "ExecuteTime": {
     "end_time": "2020-04-21T17:12:25.231416Z",
     "start_time": "2020-04-21T17:12:25.229211Z"
    },
    "hidden": true,
    "scrolled": true
   },
   "outputs": [],
   "source": [
    "# Generate example predictions\n",
    "\n",
    "# # Run models and save predictons\n",
    "\n",
    "# import pandas as pd\n",
    "# import numpy as np\n",
    "# import os\n",
    "\n",
    "# windows_path = utils.prepare_directory(\"window_data\")\n",
    "# forecasts_path = utils.prepare_directory(\"forecast\")\n",
    "\n",
    "# from itertools import product\n",
    "\n",
    "# for combination in product(\n",
    "#     parameters[\"subject\"],\n",
    "#     parameters[\"predictors\"],\n",
    "#     parameters[\"window\"],\n",
    "#     parameters[\"model\"],\n",
    "# ):\n",
    "\n",
    "#     subject, predictors, window, model = combination\n",
    "\n",
    "#     pred_filename = f\"{utils.generate_file_name(subject, predictors, window, forecasts_path, model)}.npy\"\n",
    "\n",
    "#     win_filename = (\n",
    "#         f\"{utils.generate_file_name(subject, predictors, window, windows_path)}.npz\"\n",
    "#     )\n",
    "\n",
    "#     window_data = np.load(win_filename)\n",
    "#     X, y = window_data[\"X\"], window_data[\"y\"]\n",
    "\n",
    "#     print(pred_filename)\n",
    "#     print(X)\n",
    "#     print(y)\n",
    "    \n",
    "# #     breakpoint()\n",
    "#     predictions, error = forecast_model.forecast(X, y, model, window, predictors)"
   ]
  },
  {
   "cell_type": "code",
   "execution_count": 19,
   "metadata": {
    "ExecuteTime": {
     "end_time": "2020-04-21T17:12:25.234859Z",
     "start_time": "2020-04-21T17:12:25.232699Z"
    },
    "hidden": true,
    "scrolled": false
   },
   "outputs": [],
   "source": [
    "# Compare LSTM with Decision Tree\n",
    "\n",
    "# model_parameters = config.model_parameters\n",
    "\n",
    "# X_train, y_train, X_test, y_test = forecast_model._train_test_split(X, y, train_size, test_size)\n",
    "# X_train, X_test = forecast_model._normalize(X_train, X_test)\n",
    "\n",
    "\n",
    "# model = 'Decision Tree'\n",
    "# DT_pred = forecast_model._scikit_model(\n",
    "#     model,\n",
    "#     X_train,\n",
    "#     y_train,\n",
    "#     X_test,\n",
    "#     multiregressor=model_parameters[model].get(\"multiregressor\", False),\n",
    "# )\n",
    "\n",
    "\n",
    "# # X_train = X_train.reshape((-1, 1, window * len(predictors)))\n",
    "# # X_test = X_test.reshape((-1, 1, window * len(predictors)))\n",
    "\n",
    "# model = 'LSTM'\n",
    "# LSTM_pred = forecast_model._keras_model(\n",
    "#             model, X_train, y_train, X_test, window, predictors\n",
    "#         )\n",
    "\n",
    "# print(y_test[:5])\n",
    "# print(DT_pred[:5])\n",
    "# print(LSTM_pred[:5])\n",
    "\n",
    "# y_test.shape, DT_pred.shape, LSTM_pred.shape"
   ]
  },
  {
   "cell_type": "code",
   "execution_count": 20,
   "metadata": {
    "ExecuteTime": {
     "end_time": "2020-04-21T17:12:25.240602Z",
     "start_time": "2020-04-21T17:12:25.238502Z"
    },
    "hidden": true
   },
   "outputs": [],
   "source": [
    "# A single Keras prediction attempt\n",
    "\n",
    "# from keras import Sequential\n",
    "# from keras.layers import LSTM\n",
    "# from keras.layers.core import Dense, Dropout, Activation\n",
    "\n",
    "# horizon = y_train.shape[1]\n",
    "\n",
    "# X_train, y_train, X_test, y_test = forecast_model._train_test_split(X, y, train_size, test_size)\n",
    "# X_train, X_test = forecast_model._normalize(X_train, X_test)\n",
    "\n",
    "# # scaler = MinMaxScaler()\n",
    "\n",
    "# # scaler.fit(X_train)\n",
    "# # X_train = scaler.transform(X_train)\n",
    "# # X_test = scaler.transform(X_test)\n",
    "# # y_train = scaler.transform(X_train)\n",
    "\n",
    "# X_train = X_train.reshape((-1, 1, window * len(predictors)))\n",
    "# X_test = X_test.reshape((-1, 1, window * len(predictors)))\n",
    "\n",
    "\n",
    "# print(X_train.shape, y_train.shape, X_test.shape, y_test.shape)\n",
    "\n",
    "# model = Sequential()\n",
    "# model.add(LSTM(56, input_shape=(1, len(predictors))))\n",
    "# model.add(Dropout(rate=0.2))\n",
    "# model.add(Dense(units=horizon))\n",
    "# model.compile(loss=\"mse\", optimizer=\"adam\")\n",
    "# model.fit(X_train, y_train)\n",
    "\n",
    "# model.predict(X_test)"
   ]
  },
  {
   "cell_type": "markdown",
   "metadata": {},
   "source": [
    "# Temp"
   ]
  },
  {
   "cell_type": "code",
   "execution_count": 21,
   "metadata": {
    "ExecuteTime": {
     "end_time": "2020-04-21T17:12:25.244379Z",
     "start_time": "2020-04-21T17:12:25.242535Z"
    }
   },
   "outputs": [],
   "source": [
    "# Adjusting the dataset\n",
    "\n",
    "# a = pd.read_csv(f\"results_{pd.datetime.now().isoformat()[:10]}.csv\")\n",
    "\n",
    "# a = a[~a.duplicated()]\n",
    "# a = a[~a['Unnamed: 0'].isna()]\n",
    "\n",
    "\n",
    "# first = a.loc[a['Unnamed: 0'].apply(lambda x: x.isnumeric()), ['subject', 'window', 'predictors', 'model', 'error']]\n",
    "\n",
    "# second = a.loc[~a['Unnamed: 0'].apply(lambda x: x.isnumeric()), ['Unnamed: 0', 'subject', 'window', 'predictors', 'model']]\n",
    "# second.columns = ['subject', 'window', 'predictors', 'model', 'error']\n",
    "\n",
    "\n",
    "# b = pd.concat((first, second))\n",
    "# b.to_csv(f\"results_{pd.datetime.now().isoformat()[:10]}.csv\", index=False)"
   ]
  },
  {
   "cell_type": "code",
   "execution_count": 22,
   "metadata": {
    "ExecuteTime": {
     "end_time": "2020-04-21T17:12:25.247608Z",
     "start_time": "2020-04-21T17:12:25.245669Z"
    }
   },
   "outputs": [],
   "source": [
    "# Checking memory\n",
    "\n",
    "# tot_m, used_m, free_m = map(int, os.popen('free -t -m').readlines()[-1].split()[1:])\n",
    "\n",
    "# tot_m, used_m, free_m\n",
    "\n",
    "\n",
    "# import psutil\n",
    "\n",
    "# pid = os.getpgid()\n",
    "# py = psutil.Process(pid)\n",
    "# memoryUse = py.memory_info()[0]/2.**30  # memory use in GB...I think\n",
    "# print('memory use:', memoryUse)"
   ]
  },
  {
   "cell_type": "code",
   "execution_count": 23,
   "metadata": {
    "ExecuteTime": {
     "end_time": "2020-04-21T17:12:25.251432Z",
     "start_time": "2020-04-21T17:12:25.248952Z"
    }
   },
   "outputs": [],
   "source": [
    "# def calculateClarke(y_test, predicted, window, horizon, suffix, model):\n",
    "#     \"\"\"Original Clarke error plot function\"\"\"\n",
    "#     # Calculates and plot clarke error for predicted data > horizon\n",
    "#     i = window_size\n",
    "#     first = list(predicted[0])\n",
    "#     _y_test = list(y_test[0])\n",
    "#     i = i + horizon\n",
    "#     while i < y_test.shape[0] - horizon:\n",
    "#         first = first + list(predicted[i])\n",
    "#         _y_test = _y_test + list(y_test[i])\n",
    "#         i = i + horizon\n",
    "\n",
    "#     if not os.path.exists(\"Figures\"):\n",
    "#         os.makedirs(\"Figures\")\n",
    "\n",
    "#     plt, zone = clarke_error_grid(\n",
    "#         _y_test, first, \"Clarke_\" + suffix + \"_wSize_\" + str(window_size)\n",
    "#     )\n",
    "#     plt.savefig(\n",
    "#         os.path.join(\n",
    "#             \"Figures\",\n",
    "#             \"Clarke \"\n",
    "#             + technique\n",
    "#             + \"Variables [\"\n",
    "#             + suffix\n",
    "#             + \"] j= \"\n",
    "#             + str(window_size)\n",
    "#             + \".png\",\n",
    "#         )\n",
    "#     )\n",
    "#     plt.close()\n",
    "\n",
    "#     labels = [\"A\", \"B\", \"C\", \"D\", \"E\"]\n",
    "#     fig1, ax1 = plt.subplots()\n",
    "\n",
    "#     ax1.pie(zone, labels=labels, shadow=True, autopct=\"%1.1f%%\")\n",
    "#     ax1.set_title(\"Clarke_\" + suffix + \"_wSize_\" + str(window_size))\n",
    "# #     plt.savefig(\n",
    "# #         os.path.join(\n",
    "# #             \"Figures\",\n",
    "# #             \"Clarke Pizza \"\n",
    "# #             + technique\n",
    "# #             + \"Variables [\"\n",
    "# #             + suffix\n",
    "# #             + \"] j= \"\n",
    "# #             + str(window_size)\n",
    "# #             + \".png\",\n",
    "# #         )\n",
    "# #     )\n",
    "#     plt.close()\n",
    "\n",
    "#     return ((zone[0] + zone[1]) / sum(zone)) * 100, zone"
   ]
  },
  {
   "cell_type": "code",
   "execution_count": 24,
   "metadata": {
    "ExecuteTime": {
     "end_time": "2020-04-21T17:12:25.255953Z",
     "start_time": "2020-04-21T17:12:25.253043Z"
    },
    "code_folding": [
     0
    ]
   },
   "outputs": [],
   "source": [
    "# def specialPlot(regr, X_test, y_test, window_size, horizon, suffix, technique):\n",
    "#     \"\"\"Original special plot generator function\"\"\"\n",
    "#     # Plots the predicted and the y_test data when the horizon > 1 (by sequencing forecasts sets (window + horizon))\n",
    "#     i = window_size\n",
    "#     first = list(regr.predict(X_test[0].reshape(1, -1))[0, :])\n",
    "#     _y_test = list(y_test[0])\n",
    "#     i = i + horizon\n",
    "#     while i < X_test.shape[0] - horizon:\n",
    "#         first = first + list(regr.predict(X_test[i].reshape(1, -1))[0, :])\n",
    "#         _y_test = _y_test + list(y_test[i])\n",
    "#         i = i + horizon\n",
    "\n",
    "#     plt.figure()\n",
    "\n",
    "#     plt.plot(range(len(_y_test)), _y_test, label=\"Test Data\")\n",
    "#     plt.plot(range(len(_y_test)), first, color=\"red\", label=\"Prediction\")\n",
    "#     pylab.xlabel(\"Sample\")\n",
    "#     pylab.ylabel(\"Y\")\n",
    "#     pylab.title(\"Variables [\" + suffix + \"] \" + technique + \" j= \" + str(window_size))\n",
    "#     plt.legend(loc=0)\n",
    "#     plt.grid(\"on\")\n",
    "\n",
    "#     if not os.path.exists(\"Figures\"):\n",
    "#         os.makedirs(\"Figures\")\n",
    "#     plt.savefig(\n",
    "#         os.path.join(\n",
    "#             \"Figures\",\n",
    "#             \"Forecasting \"\n",
    "#             + technique\n",
    "#             + \"Variables [\"\n",
    "#             + suffix\n",
    "#             + \"] j= \"\n",
    "#             + str(window_size)\n",
    "#             + \".png\",\n",
    "#         )\n",
    "#     )\n",
    "#     plt.close()"
   ]
  }
 ],
 "metadata": {
  "celltoolbar": "Initialization Cell",
  "hide_input": false,
  "kernelspec": {
   "display_name": "Python 3",
   "language": "python",
   "name": "python3"
  },
  "language_info": {
   "codemirror_mode": {
    "name": "ipython",
    "version": 3
   },
   "file_extension": ".py",
   "mimetype": "text/x-python",
   "name": "python",
   "nbconvert_exporter": "python",
   "pygments_lexer": "ipython3",
   "version": "3.7.6"
  },
  "notify_time": "10",
  "toc": {
   "base_numbering": 1,
   "nav_menu": {},
   "number_sections": true,
   "sideBar": true,
   "skip_h1_title": false,
   "title_cell": "Table of Contents",
   "title_sidebar": "Contents",
   "toc_cell": false,
   "toc_position": {},
   "toc_section_display": true,
   "toc_window_display": false
  },
  "varInspector": {
   "cols": {
    "lenName": 16,
    "lenType": 16,
    "lenVar": 40
   },
   "kernels_config": {
    "python": {
     "delete_cmd_postfix": "",
     "delete_cmd_prefix": "del ",
     "library": "var_list.py",
     "varRefreshCmd": "print(var_dic_list())"
    },
    "r": {
     "delete_cmd_postfix": ") ",
     "delete_cmd_prefix": "rm(",
     "library": "var_list.r",
     "varRefreshCmd": "cat(var_dic_list()) "
    }
   },
   "position": {
    "height": "448.017px",
    "left": "1442.67px",
    "right": "20px",
    "top": "117px",
    "width": "289.333px"
   },
   "types_to_exclude": [
    "module",
    "function",
    "builtin_function_or_method",
    "instance",
    "_Feature"
   ],
   "window_display": false
  }
 },
 "nbformat": 4,
 "nbformat_minor": 2
}
